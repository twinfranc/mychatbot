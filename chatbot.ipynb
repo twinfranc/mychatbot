{
 "cells": [
  {
   "cell_type": "code",
   "execution_count": 13,
   "metadata": {},
   "outputs": [],
   "source": [
    "import nltk \n",
    "\n",
    "from nltk.chat.util import Chat, reflections"
   ]
  },
  {
   "cell_type": "code",
   "execution_count": 17,
   "metadata": {},
   "outputs": [],
   "source": [
    "data = [[r\"(.*Hi|.*Hello|.*Hey|.*What's up)\", [\"Hello, Welcome\"]],\n",
    "        [r\"(.*name)\", [\"My name is Uthman\"]], \n",
    "        [r\"(.*age|.*old)\", [\"I am 450 years old, but I am still a very agile 😉.\"]],\n",
    "        [r\"(.*colour|.*color)\", [\"My favourite colour is White ⚪.\"]],\n",
    "        [r\"(.*sport)\", [\"I am a huge fan of Football ⚽, Basketball 🏀 and Tennis 🎾.\"]],\n",
    "        [r\"(.*skills)\", [\"I am skilled in Python, Power BI, Machine Learning and SQL.\"]],\n",
    "        [r\"(.*hobbies|.*interests|.*interest)\", [\"I am really interested in sports⚽, coding💻 and Economic theories.\"]],\n",
    "        [r\"(.*yourself|.*brief|.*about)\", [\" Economics graduate with a strong foundation in statistical analysis, economic modeling, and data science. Skilled in Python, Power BI, and SQL, with hands-on experience in machine learning, data visualization, and handling large datasets. Adept at uncovering insights through advanced analytics to support data-driven decision-making. Passionate about applying economic principles and cutting-edge data science techniques to solve real-world challenges in areas like market analysis, financial forecasting, and business optimization.\"]]\n",
    "\n",
    "]"
   ]
  },
  {
   "cell_type": "code",
   "execution_count": 19,
   "metadata": {},
   "outputs": [
    {
     "name": "stdout",
     "output_type": "stream",
     "text": [
      "Hello!!, I'm your chatbot, Type 'exit' to end the conversation.\n",
      "Chatbot: I could not understand your statement, kindly rephrase your statement\n",
      "Chatbot: I could not understand your statement, kindly rephrase your statement\n",
      "Chatbot:  I am 450 years old, but I am still a very agile 😉.\n",
      "Chatbot:  I am skilled in Python, Power BI, Machine Learning and SQL.\n",
      "Chatbot:  I am a huge fan of Football ⚽, Basketball 🏀 and Tennis 🎾.\n",
      "Chatbot: Goodbye!!!\n"
     ]
    }
   ],
   "source": [
    "chatbot =  Chat(data, reflections)\n",
    "\n",
    "print(\"Hello!!, I'm your chatbot, Type 'exit' to end the conversation.\")\n",
    "\n",
    "while True:\n",
    "    user_input = input(\"You: \")\n",
    "    if user_input.lower() == 'exit' :\n",
    "        print(\"Chatbot: Goodbye!!!\")\n",
    "        break\n",
    "    else:\n",
    "        response = chatbot.respond(user_input)\n",
    "        if response == None: \n",
    "            print(\"Chatbot: I could not understand your statement, kindly rephrase your statement\")\n",
    "        else: \n",
    "            print(\"Chatbot: \", response)\n",
    "        \n"
   ]
  },
  {
   "cell_type": "code",
   "execution_count": null,
   "metadata": {},
   "outputs": [],
   "source": []
  }
 ],
 "metadata": {
  "kernelspec": {
   "display_name": "Python 3 (ipykernel)",
   "language": "python",
   "name": "python3"
  },
  "language_info": {
   "codemirror_mode": {
    "name": "ipython",
    "version": 3
   },
   "file_extension": ".py",
   "mimetype": "text/x-python",
   "name": "python",
   "nbconvert_exporter": "python",
   "pygments_lexer": "ipython3",
   "version": "3.12.4"
  }
 },
 "nbformat": 4,
 "nbformat_minor": 4
}
